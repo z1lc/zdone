{
 "cells": [
  {
   "cell_type": "code",
   "execution_count": 56,
   "metadata": {},
   "outputs": [],
   "source": [
    "text = \"\"\"Pa complained, “Seems like the man ain’t got no say no more. She’s jus’ a heller. Come time we get settled down, I’m a-gonna smack her.’’ “Come that time, you can,’’ said Ma. “Roust up, Al. It’s dark enough.’’ Al went outside to the truck.\n",
    "The bank is something else than men. It happens that every man in a bank hates what the bank does, and yet the bank does it. The bank is something more than men, I tell you. It’s the monster. Men made it, but they can’t control it.\n",
    "Steinbeck discovered that it was no longer necessary to lead people toward a distant new Eden or illusory Promised Land; rather, the most heroic action was simply to learn to be present in the here and now, and to inhabit the “wherever”\n",
    "The great companies did not know that the line between hunger and anger is a thin line. And money that might have gone to wages went for gas, for guns, for agents and spies, for blacklists, for drilling. On the highways the people moved like ants and searched for work, for food. And the anger began to ferment.\n",
    "Women and children knew deep in themselves that no misfortune was too great to bear if their men were whole.\n",
    "The changing economy was ignored, plans for the change ignored; and only means to destroy revolt were considered, while the causes of revolt went on.\n",
    "In the souls of the people the grapes of wrath are filling and growing heavy, growing heavy for the vintage.\n",
    "Now farming became industry, and the owners followed Rome, although they did not know it. They imported slaves, although they did not call them slaves: Chinese, Japanese, Mexicans, Filipinos. They live on rice and beans, the business men said. They don’t need much. They wouldn’t know what to do with good wages. Why, look how they live. Why, look what they eat. And if they get funny—deport them.\n",
    "Joad took the bottle from him, and in politeness did not wipe the neck with his sleeve before he drank.\n",
    "Cops cause more trouble than they stop.\"\"\""
   ]
  },
  {
   "cell_type": "code",
   "execution_count": 57,
   "metadata": {
    "scrolled": true
   },
   "outputs": [
    {
     "data": {
      "text/plain": [
       "[('men', 0.04488139910592149),\n",
       " ('people', 0.03826588694052992),\n",
       " ('bank', 0.03085470465671127),\n",
       " ('anger', 0.026222255363192695),\n",
       " ('line', 0.02367839797353611),\n",
       " ('heavy', 0.02212502346887788),\n",
       " ('revolt', 0.021157420112178537),\n",
       " ('great companies', 0.021034349116915353),\n",
       " ('slaves', 0.020746731516895472),\n",
       " ('wages', 0.019164017912806718)]"
      ]
     },
     "execution_count": 57,
     "metadata": {},
     "output_type": "execute_result"
    }
   ],
   "source": [
    "import pke\n",
    "\n",
    "# initialize keyphrase extraction model, here TopicRank\n",
    "extractor = pke.unsupervised.TopicRank()\n",
    "\n",
    "# load the content of the document, here document is expected to be in raw\n",
    "# format (i.e. a simple text file) and preprocessing is carried out using spacy\n",
    "extractor.load_document(input=text, language=\"en\")\n",
    "\n",
    "# keyphrase candidate selection, in the case of TopicRank: sequences of nouns\n",
    "# and adjectives (i.e. `(Noun|Adj)*`)\n",
    "extractor.candidate_selection()\n",
    "\n",
    "# candidate weighting, in the case of TopicRank: using a random walk algorithm\n",
    "extractor.candidate_weighting()\n",
    "\n",
    "# N-best selection, keyphrases contains the 10 highest scored candidates as\n",
    "# (keyphrase, score) tuples\n",
    "keyphrases = extractor.get_n_best(n=10)\n",
    "keyphrases"
   ]
  },
  {
   "cell_type": "code",
   "execution_count": 61,
   "metadata": {},
   "outputs": [
    {
     "name": "stdout",
     "output_type": "stream",
     "text": [
      "Pa complained, “Seems like the man ain’t got no say no more. She’s jus’ a heller. Come time we get settled down, I’m a-gonna smack her.’’ “Come that time, you can,’’ said Ma. “Roust up, Al. It’s dark enough.’’ Al went outside to the truck.\n",
      "The [bank] is something else than [men]. It happens that every man in a [bank] hates what the [bank] does, and yet the [bank] does it. The [bank] is something more than [men], I tell you. It’s the monster. Men made it, but they can’t control it.\n",
      "Steinbeck discovered that it was no longer necessary to lead [people] toward a distant new Eden or illusory Promised Land; rather, the most heroic action was simply to learn to be present in the here and now, and to inhabit the “wherever”\n",
      "The [great companies] did not know that the [line] between hunger and [anger] is a thin [line]. And money that might have gone to [wages] went for gas, for guns, for agents and spies, for blacklists, for drilling. On the highways the [people] moved like ants and searched for work, for food. And the [anger] began to fer[men]t.\n",
      "Wo[men] and children knew deep in themselves that no misfortune was too great to bear if their [men] were whole.\n",
      "The changing economy was ignored, plans for the change ignored; and only means to destroy [revolt] were considered, while the causes of [revolt] went on.\n",
      "In the souls of the [people] the grapes of wrath are filling and growing [heavy], growing [heavy] for the vintage.\n",
      "Now farming became industry, and the owners followed Rome, although they did not know it. They imported [slaves], although they did not call them [slaves]: Chinese, Japanese, Mexicans, Filipinos. They live on rice and beans, the business [men] said. They don’t need much. They wouldn’t know what to do with good [wages]. Why, look how they live. Why, look what they eat. And if they get funny—deport them.\n",
      "Joad took the bottle from him, and in politeness did not wipe the neck with his sleeve before he drank.\n",
      "Cops cause more trouble than they stop.\n"
     ]
    }
   ],
   "source": [
    "for sentence in text.split('\\n'):\n",
    "    for keyphrase, _ in keyphrases:\n",
    "        sentence = sentence.replace(keyphrase, f'[{keyphrase}]')\n",
    "    print(sentence)"
   ]
  }
 ],
 "metadata": {
  "kernelspec": {
   "display_name": "Python 3",
   "language": "python",
   "name": "python3"
  },
  "language_info": {
   "codemirror_mode": {
    "name": "ipython",
    "version": 3
   },
   "file_extension": ".py",
   "mimetype": "text/x-python",
   "name": "python",
   "nbconvert_exporter": "python",
   "pygments_lexer": "ipython3",
   "version": "3.8.2"
  }
 },
 "nbformat": 4,
 "nbformat_minor": 4
}
